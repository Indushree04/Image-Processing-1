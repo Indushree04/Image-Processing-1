{
 "cells": [
  {
   "cell_type": "code",
   "execution_count": 4,
   "id": "83289326",
   "metadata": {},
   "outputs": [],
   "source": [
    "import cv2\n",
    "import numpy as np\n",
    "#read image\n",
    "img=cv2.imread('feather.jfif',0)\n",
    "\n",
    "#obtain no of rows and columns\n",
    "m,n=img.shape\n",
    "\n",
    "#Developing Averaging filter(3,3)\n",
    "mask=np.ones([3,3],dtype=int)\n",
    "mask=mask/9\n",
    "\n",
    "#construct 3*3 mask image\n",
    "img_new=np.zeros([m,n])\n",
    "for i in range(1,m-1):\n",
    "    for j in range(1,n-1):\n",
    "        temp=img[i-1,j-1]*mask[0,0]+img[i-1,j]*mask[0,1]+img[i-1,j+1]*mask[0,2]+img[i,j-1]*mask[1,0]+img[i,j]*mask[1,1]+img[i,j+1]*mask[1,2]+img[i+1,j-1]*mask[2,0]+img[i+1,j]*mask[2,1]+img[i+1,j+1]*mask[2,2]\n",
    "        img_new[i,j]=temp\n",
    "        img_new=img_new.astype(np.uint8)\n",
    "cv2.imshow('Blurred Image',img_new)\n",
    "cv2.waitKey(0)\n",
    "cv2.destroyAllWindows()\n"
   ]
  },
  {
   "cell_type": "code",
   "execution_count": null,
   "id": "f5d2db50",
   "metadata": {},
   "outputs": [],
   "source": []
  }
 ],
 "metadata": {
  "kernelspec": {
   "display_name": "Python 3 (ipykernel)",
   "language": "python",
   "name": "python3"
  },
  "language_info": {
   "codemirror_mode": {
    "name": "ipython",
    "version": 3
   },
   "file_extension": ".py",
   "mimetype": "text/x-python",
   "name": "python",
   "nbconvert_exporter": "python",
   "pygments_lexer": "ipython3",
   "version": "3.9.7"
  }
 },
 "nbformat": 4,
 "nbformat_minor": 5
}
