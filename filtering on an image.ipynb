{
 "cells": [
  {
   "cell_type": "code",
   "execution_count": null,
   "id": "4603a7a6",
   "metadata": {},
   "outputs": [],
   "source": [
    "import cv2\n",
    "import numpy as np\n",
    "\n",
    "#read image\n",
    "img_noisy1=cv2.imread(\"noisy.jfif\",0)\n",
    "\n",
    "#obtain no of rows and columns\n",
    "m,n=img_noisy1.shape\n",
    "\n",
    "#traverse the image\n",
    "img_new1=np.zeros([m,n])\n",
    "for i in range(1,m-1):\n",
    "    for j in range(1,n-1):\n",
    "        temp=[img_noisy1[i-1,j],\n",
    "              img_noisy1[i-1,j+1],\n",
    "              img_noisy1[i,j-1],\n",
    "              img_noisy1[i,j],\n",
    "              img_noisy1[i,j+1],\n",
    "              img_noisy1[i+1,j-1],\n",
    "              img_noisy1[i+1,j],\n",
    "              img_noisy1[i-1,j-1],\n",
    "              img_noisy1[i+1,j+1]]\n",
    "        \n",
    "        temp=sorted(temp)\n",
    "        img_new1[i,j]=temp[4]\n",
    "        img_new1=img_new1.astype(np.uint8)\n",
    "        \n",
    "cv2.imshow(\"Median filtered image\",img_new1)\n",
    "cv2.waitKey(0)\n",
    "cv2.destroyAllWindows()"
   ]
  }
 ],
 "metadata": {
  "kernelspec": {
   "display_name": "Python 3 (ipykernel)",
   "language": "python",
   "name": "python3"
  },
  "language_info": {
   "codemirror_mode": {
    "name": "ipython",
    "version": 3
   },
   "file_extension": ".py",
   "mimetype": "text/x-python",
   "name": "python",
   "nbconvert_exporter": "python",
   "pygments_lexer": "ipython3",
   "version": "3.9.7"
  }
 },
 "nbformat": 4,
 "nbformat_minor": 5
}
