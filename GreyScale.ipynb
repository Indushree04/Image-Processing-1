{
 "cells": [
  {
   "cell_type": "code",
   "execution_count": 5,
   "id": "e144ceb6",
   "metadata": {},
   "outputs": [],
   "source": [
    "import cv2"
   ]
  },
  {
   "cell_type": "code",
   "execution_count": 6,
   "id": "dcfe1f6d",
   "metadata": {},
   "outputs": [],
   "source": [
    "image=cv2.imread(\"fall.jfif\",0)\n",
    "cv2.imshow('images',image)"
   ]
  },
  {
   "cell_type": "code",
   "execution_count": 3,
   "id": "e880d12b",
   "metadata": {},
   "outputs": [
    {
     "data": {
      "text/plain": [
       "True"
      ]
     },
     "execution_count": 3,
     "metadata": {},
     "output_type": "execute_result"
    }
   ],
   "source": [
    "cv2.imwrite('D:\\Indu.png',image)"
   ]
  },
  {
   "cell_type": "code",
   "execution_count": 4,
   "id": "2970a005",
   "metadata": {},
   "outputs": [],
   "source": [
    "cv2.waitKey(0)\n",
    "cv2.destroyAllWindows()"
   ]
  }
 ],
 "metadata": {
  "kernelspec": {
   "display_name": "Python 3 (ipykernel)",
   "language": "python",
   "name": "python3"
  },
  "language_info": {
   "codemirror_mode": {
    "name": "ipython",
    "version": 3
   },
   "file_extension": ".py",
   "mimetype": "text/x-python",
   "name": "python",
   "nbconvert_exporter": "python",
   "pygments_lexer": "ipython3",
   "version": "3.9.7"
  }
 },
 "nbformat": 4,
 "nbformat_minor": 5
}
