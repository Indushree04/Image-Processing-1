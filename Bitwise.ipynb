{
 "cells": [
  {
   "cell_type": "code",
   "execution_count": 16,
   "id": "55c346eb",
   "metadata": {},
   "outputs": [],
   "source": [
    "import cv2 as cv\n",
    "#read the images\n",
    "img1 = cv.imread('im2.jpg')\n",
    "img2 = cv.imread('im4.jpg')\n",
    "\n",
    "cv.imshow('img1',img1)\n",
    "cv.imshow('img2',img2)\n",
    "\n",
    "cv.waitKey(0) \n",
    "cv.destroyAllWindows()"
   ]
  },
  {
   "cell_type": "code",
   "execution_count": 17,
   "id": "14889246",
   "metadata": {},
   "outputs": [],
   "source": [
    "#AND\n",
    "bitwise_AND = cv.bitwise_and(img1, img2)\n",
    "cv.imshow('AND',bitwise_AND)\n",
    "cv.waitKey(0)\n",
    "cv.destroyAllWindows()"
   ]
  },
  {
   "cell_type": "code",
   "execution_count": 18,
   "id": "5ae9e454",
   "metadata": {},
   "outputs": [],
   "source": [
    "#OR\n",
    "bitwise_OR = cv.bitwise_or(img1, img2)\n",
    "cv.imshow('OR',bitwise_OR)\n",
    "cv.waitKey(0)\n",
    "cv.destroyAllWindows()\n"
   ]
  },
  {
   "cell_type": "code",
   "execution_count": 19,
   "id": "0b41847c",
   "metadata": {},
   "outputs": [],
   "source": [
    "#NOT\n",
    "bitwise_NOT = cv.bitwise_not(img1)\n",
    "cv.imshow('NOT',bitwise_NOT)\n",
    "cv.waitKey(0)\n",
    "cv.destroyAllWindows()"
   ]
  }
 ],
 "metadata": {
  "kernelspec": {
   "display_name": "Python 3 (ipykernel)",
   "language": "python",
   "name": "python3"
  },
  "language_info": {
   "codemirror_mode": {
    "name": "ipython",
    "version": 3
   },
   "file_extension": ".py",
   "mimetype": "text/x-python",
   "name": "python",
   "nbconvert_exporter": "python",
   "pygments_lexer": "ipython3",
   "version": "3.9.7"
  }
 },
 "nbformat": 4,
 "nbformat_minor": 5
}
