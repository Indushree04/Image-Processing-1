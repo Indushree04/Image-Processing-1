{
 "cells": [
  {
   "cell_type": "code",
   "execution_count": 1,
   "id": "ac0eeb48",
   "metadata": {},
   "outputs": [
    {
     "name": "stdout",
     "output_type": "stream",
     "text": [
      "D:/Indu\\invert_car.png\n",
      "D:/Indu\\invert_heart.png\n",
      "D:/Indu\\invert_mario.png\n"
     ]
    }
   ],
   "source": [
    "# Code to apply operations on all the images  present in a folder one by one\n",
    "# operations such as rotating, cropping,\n",
    "\n",
    "from PIL import Image\n",
    "from PIL import ImageFilter\n",
    "import os\n",
    "\n",
    "def main():\n",
    "# path of the folder containing the raw images\n",
    "    inPath =\"D:/Inchu\"\n",
    "\n",
    "# path of the folder that will contain the modified image\n",
    "    outPath =\"D:/Indu\"\n",
    "\n",
    "    for imagePath in os.listdir(inPath):\n",
    "# imagePath contains name of the image\n",
    "       inputPath = os.path.join(inPath, imagePath)\n",
    "\n",
    "# inputPath contains the full directory name\n",
    "       img = Image.open(inputPath)\n",
    "\n",
    "       fullOutPath = os.path.join(outPath, 'invert_'+imagePath)\n",
    "# fullOutPath contains the path of the output\n",
    "# image that needs to be generated\n",
    "       img.rotate(90).save(fullOutPath)\n",
    "\n",
    "       print(fullOutPath)\n",
    "\n",
    "# Driver Function\n",
    "if __name__ == '__main__':\n",
    "    main()\n"
   ]
  },
  {
   "cell_type": "code",
   "execution_count": null,
   "id": "a98f8f85",
   "metadata": {},
   "outputs": [],
   "source": []
  }
 ],
 "metadata": {
  "kernelspec": {
   "display_name": "Python 3 (ipykernel)",
   "language": "python",
   "name": "python3"
  },
  "language_info": {
   "codemirror_mode": {
    "name": "ipython",
    "version": 3
   },
   "file_extension": ".py",
   "mimetype": "text/x-python",
   "name": "python",
   "nbconvert_exporter": "python",
   "pygments_lexer": "ipython3",
   "version": "3.9.7"
  }
 },
 "nbformat": 4,
 "nbformat_minor": 5
}
