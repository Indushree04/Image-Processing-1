{
 "cells": [
  {
   "cell_type": "code",
   "execution_count": 21,
   "id": "66b72e08",
   "metadata": {},
   "outputs": [],
   "source": [
    "#Remove BG\n",
    "import cv2\n",
    "from PIL import Image,ImageDraw,ImageFilter\n",
    "im1=Image.open('im2.jpg')\n",
    "im2=Image.open('baloon.jfif')\n",
    "mask_im=Image.new(\"L\",im2.size,0)\n",
    "draw=ImageDraw.Draw(mask_im)\n",
    "draw.ellipse((20,11,200,200),fill=225)\n",
    "mask_im_blur=mask_im.filter(ImageFilter.GaussianBlur(10))\n",
    "back_im=im1.copy()\n",
    "back_im.paste(im2,(0,0),mask_im_blur)\n",
    "back_im.show()\n",
    "cv2.waitKey(0)\n",
    "cv2.destroyAllWindows()\n"
   ]
  }
 ],
 "metadata": {
  "kernelspec": {
   "display_name": "Python 3 (ipykernel)",
   "language": "python",
   "name": "python3"
  },
  "language_info": {
   "codemirror_mode": {
    "name": "ipython",
    "version": 3
   },
   "file_extension": ".py",
   "mimetype": "text/x-python",
   "name": "python",
   "nbconvert_exporter": "python",
   "pygments_lexer": "ipython3",
   "version": "3.9.7"
  }
 },
 "nbformat": 4,
 "nbformat_minor": 5
}
