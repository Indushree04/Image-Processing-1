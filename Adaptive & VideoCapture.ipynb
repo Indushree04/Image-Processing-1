{
 "cells": [
  {
   "cell_type": "code",
   "execution_count": null,
   "id": "c9a8a9b7",
   "metadata": {},
   "outputs": [],
   "source": [
    "import cv2\n",
    "import numpy as np\n",
    "\n",
    "img = cv2.imread('snow.png', cv2.IMREAD_GRAYSCALE)\n",
    "cv2.imshow('gray', img)\n",
    "\n",
    "blur = cv2.GaussianBlur(img,(5,5),0)\n",
    "cv2.imshow('blur', blur)\n",
    "\n",
    "ret,th1 = cv2.threshold(blur,150,255,cv2.THRESH_BINARY)\n",
    "cv2.imshow('Global', th1)\n",
    "cv2.imwrite('Global.jpg',th1)\n",
    "\n",
    "\n",
    "th2 = cv2.adaptiveThreshold(blur,255,cv2.ADAPTIVE_THRESH_MEAN_C,cv2.THRESH_BINARY,11,2)\n",
    "cv2.imshow('Adaptive Mean', th2)\n",
    "cv2.imwrite('AM.jpg',th2)\n",
    "\n",
    "\n",
    "th3 = cv2.adaptiveThreshold(blur,255,cv2.ADAPTIVE_THRESH_GAUSSIAN_C,cv2.THRESH_BINARY,11,2)\n",
    "cv2.imshow('Adaptive Gaussian', th3)\n",
    "cv2.imwrite('AG.jpg',th3)\n",
    "cv2.waitKey(0)\n",
    "cv2.destroyAllWindows()\n"
   ]
  },
  {
   "cell_type": "code",
   "execution_count": null,
   "id": "a6b2b64e",
   "metadata": {},
   "outputs": [],
   "source": [
    "#Refer the camera program .....dont refer this\n",
    "import cv2\n",
    "vid = cv2.VideoCapture(0) \n",
    "i=0\n",
    "while(True):  \n",
    "    ret, frame = vid.read()  \n",
    "    cv2.imshow('frame', frame) \n",
    "    if cv2.waitKey(1) & 0xFF == ord('q'): \n",
    "        break\n",
    "    cv2.imwrite('bhanu'+str(i)+'.jpg',frame)\n",
    "\n",
    "    \n",
    "vid.release() \n",
    "cv2.destroyAllWindows() "
   ]
  },
  {
   "cell_type": "code",
   "execution_count": null,
   "id": "9dd641ed",
   "metadata": {},
   "outputs": [],
   "source": []
  },
  {
   "cell_type": "code",
   "execution_count": null,
   "id": "13710c1a",
   "metadata": {},
   "outputs": [],
   "source": []
  }
 ],
 "metadata": {
  "kernelspec": {
   "display_name": "Python 3 (ipykernel)",
   "language": "python",
   "name": "python3"
  },
  "language_info": {
   "codemirror_mode": {
    "name": "ipython",
    "version": 3
   },
   "file_extension": ".py",
   "mimetype": "text/x-python",
   "name": "python",
   "nbconvert_exporter": "python",
   "pygments_lexer": "ipython3",
   "version": "3.9.7"
  }
 },
 "nbformat": 4,
 "nbformat_minor": 5
}
